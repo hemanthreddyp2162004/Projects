{
  "nbformat": 4,
  "nbformat_minor": 0,
  "metadata": {
    "colab": {
      "provenance": [],
      "gpuType": "T4"
    },
    "kernelspec": {
      "name": "python3",
      "display_name": "Python 3"
    },
    "language_info": {
      "name": "python"
    },
    "accelerator": "GPU"
  },
  "cells": [
    {
      "cell_type": "code",
      "execution_count": 1,
      "metadata": {
        "colab": {
          "base_uri": "https://localhost:8080/"
        },
        "id": "uKJ5rc5ZQh0t",
        "outputId": "54ef98c2-108a-4aab-d79a-cd3ce43c0ccd"
      },
      "outputs": [
        {
          "output_type": "stream",
          "name": "stdout",
          "text": [
            "Mounted at /content/drive\n"
          ]
        }
      ],
      "source": [
        "from google.colab import drive\n",
        "drive.mount('/content/drive')"
      ]
    },
    {
      "cell_type": "code",
      "source": [
        "data = !unrar x /content/drive/MyDrive/Tumor_Dataset.rar"
      ],
      "metadata": {
        "id": "wrOfWQEbRQgK"
      },
      "execution_count": 2,
      "outputs": []
    },
    {
      "cell_type": "code",
      "source": [
        "import os\n",
        "import numpy as np\n",
        "import tensorflow as tf\n",
        "from tensorflow import keras\n",
        "from tensorflow.keras import layers\n",
        "from tensorflow.keras.preprocessing.image import load_img, img_to_array\n",
        "from sklearn.model_selection import train_test_split\n",
        "import matplotlib.pyplot as plt"
      ],
      "metadata": {
        "id": "vrOi-eistAUX"
      },
      "execution_count": 14,
      "outputs": []
    },
    {
      "cell_type": "code",
      "source": [
        "# === Load Dataset ===\n",
        "DATASET_PATH = '/content/Tumor_Dataset'\n",
        "CLASS_NAMES = ['glioma_tumor', 'pituitary_tumor', 'no_tumor', 'meningioma_tumor']\n",
        "IMG_SIZE = (256, 256)\n",
        "images = []\n",
        "labels = []"
      ],
      "metadata": {
        "id": "RR0hCUZXtGYE"
      },
      "execution_count": 15,
      "outputs": []
    },
    {
      "cell_type": "code",
      "source": [
        "for label, class_name in enumerate(CLASS_NAMES):\n",
        "    class_path = os.path.join(DATASET_PATH, class_name)\n",
        "    for img_name in os.listdir(class_path):\n",
        "        img_path = os.path.join(class_path, img_name)\n",
        "        img = load_img(img_path, target_size=IMG_SIZE)\n",
        "        img_array = img_to_array(img) / 255.0\n",
        "        images.append(img_array)\n",
        "        labels.append(label)\n",
        "\n",
        "images = np.array(images)\n",
        "labels = np.array(labels)"
      ],
      "metadata": {
        "id": "G9xA-MCstIis"
      },
      "execution_count": 16,
      "outputs": []
    },
    {
      "cell_type": "code",
      "source": [
        "# === Train-Test Split ===\n",
        "X_train, X_val, y_train, y_val = train_test_split(images, labels, test_size=0.2, random_state=42)"
      ],
      "metadata": {
        "id": "Um06_Y8itLa9"
      },
      "execution_count": 17,
      "outputs": []
    },
    {
      "cell_type": "code",
      "source": [
        "# === Build U-Net Model ===\n",
        "def conv_block(inputs, num_filters):\n",
        "    x = layers.Conv2D(num_filters, (3, 3), padding=\"same\", activation=\"relu\")(inputs)\n",
        "    x = layers.Conv2D(num_filters, (3, 3), padding=\"same\", activation=\"relu\")(x)\n",
        "    return x\n",
        "\n",
        "def unet_model(input_shape, num_classes):\n",
        "    inputs = layers.Input(shape=input_shape)\n",
        "\n",
        "    # Encoder\n",
        "    c1 = conv_block(inputs, 32)\n",
        "    p1 = layers.MaxPooling2D((2, 2))(c1)\n",
        "\n",
        "    c2 = conv_block(p1, 64)\n",
        "    p2 = layers.MaxPooling2D((2, 2))(c2)\n",
        "\n",
        "    c3 = conv_block(p2, 128)\n",
        "    p3 = layers.MaxPooling2D((2, 2))(c3)\n",
        "\n",
        "    # Bottleneck\n",
        "    c4 = conv_block(p3, 256)\n",
        "\n",
        "    # Decoder\n",
        "    u1 = layers.UpSampling2D((2, 2))(c4)\n",
        "    u1 = layers.concatenate([u1, c3])\n",
        "    c5 = conv_block(u1, 128)\n",
        "\n",
        "    u2 = layers.UpSampling2D((2, 2))(c5)\n",
        "    u2 = layers.concatenate([u2, c2])\n",
        "    c6 = conv_block(u2, 64)\n",
        "\n",
        "    u3 = layers.UpSampling2D((2, 2))(c6)\n",
        "    u3 = layers.concatenate([u3, c1])\n",
        "    c7 = conv_block(u3, 32)\n",
        "\n",
        "    outputs = layers.Conv2D(num_classes, (1, 1), activation=\"softmax\")(c7)\n",
        "\n",
        "    model = keras.Model(inputs, outputs)\n",
        "    return model"
      ],
      "metadata": {
        "id": "WKyELQictOA8"
      },
      "execution_count": 18,
      "outputs": []
    },
    {
      "cell_type": "code",
      "source": [
        "# === Compile and Train Model ===\n",
        "model = unet_model(input_shape=(256, 256, 3), num_classes=4)\n",
        "model.compile(optimizer='adam', loss='sparse_categorical_crossentropy', metrics=['accuracy'])"
      ],
      "metadata": {
        "id": "kgUTzflHtR0Z"
      },
      "execution_count": 19,
      "outputs": []
    },
    {
      "cell_type": "code",
      "source": [
        "# Reshape y_train and y_val to have the same spatial dimensions as the model output\n",
        "y_train_reshaped = y_train.reshape((-1, 1, 1, 1))  # Add spatial dimensions\n",
        "y_train_reshaped = tf.tile(y_train_reshaped, [1, 256, 256, 1]) # Tile to match output size\n",
        "\n",
        "y_val_reshaped = y_val.reshape((-1, 1, 1, 1))  # Add spatial dimensions\n",
        "y_val_reshaped = tf.tile(y_val_reshaped, [1, 256, 256, 1])  # Tile to match output size\n",
        "\n",
        "history = model.fit(X_train, y_train_reshaped, validation_data=(X_val, y_val_reshaped), epochs=50, batch_size=16)"
      ],
      "metadata": {
        "colab": {
          "base_uri": "https://localhost:8080/"
        },
        "id": "J3i6a6oytVUE",
        "outputId": "8c96140d-def2-410d-d3dc-84f2d67db62d"
      },
      "execution_count": 20,
      "outputs": [
        {
          "output_type": "stream",
          "name": "stdout",
          "text": [
            "Epoch 1/50\n",
            "\u001b[1m144/144\u001b[0m \u001b[32m━━━━━━━━━━━━━━━━━━━━\u001b[0m\u001b[37m\u001b[0m \u001b[1m107s\u001b[0m 515ms/step - accuracy: 0.2788 - loss: 1.3629 - val_accuracy: 0.3837 - val_loss: 1.3428\n",
            "Epoch 2/50\n",
            "\u001b[1m144/144\u001b[0m \u001b[32m━━━━━━━━━━━━━━━━━━━━\u001b[0m\u001b[37m\u001b[0m \u001b[1m79s\u001b[0m 277ms/step - accuracy: 0.3513 - loss: 1.3400 - val_accuracy: 0.3592 - val_loss: 1.2987\n",
            "Epoch 3/50\n",
            "\u001b[1m144/144\u001b[0m \u001b[32m━━━━━━━━━━━━━━━━━━━━\u001b[0m\u001b[37m\u001b[0m \u001b[1m38s\u001b[0m 253ms/step - accuracy: 0.3702 - loss: 1.3068 - val_accuracy: 0.3741 - val_loss: 1.2663\n",
            "Epoch 4/50\n",
            "\u001b[1m144/144\u001b[0m \u001b[32m━━━━━━━━━━━━━━━━━━━━\u001b[0m\u001b[37m\u001b[0m \u001b[1m41s\u001b[0m 256ms/step - accuracy: 0.3781 - loss: 1.2847 - val_accuracy: 0.4357 - val_loss: 1.2132\n",
            "Epoch 5/50\n",
            "\u001b[1m144/144\u001b[0m \u001b[32m━━━━━━━━━━━━━━━━━━━━\u001b[0m\u001b[37m\u001b[0m \u001b[1m43s\u001b[0m 272ms/step - accuracy: 0.4063 - loss: 1.2388 - val_accuracy: 0.4330 - val_loss: 1.2173\n",
            "Epoch 6/50\n",
            "\u001b[1m144/144\u001b[0m \u001b[32m━━━━━━━━━━━━━━━━━━━━\u001b[0m\u001b[37m\u001b[0m \u001b[1m37s\u001b[0m 256ms/step - accuracy: 0.4111 - loss: 1.2174 - val_accuracy: 0.4423 - val_loss: 1.1936\n",
            "Epoch 7/50\n",
            "\u001b[1m144/144\u001b[0m \u001b[32m━━━━━━━━━━━━━━━━━━━━\u001b[0m\u001b[37m\u001b[0m \u001b[1m41s\u001b[0m 256ms/step - accuracy: 0.4413 - loss: 1.1836 - val_accuracy: 0.4393 - val_loss: 1.1628\n",
            "Epoch 8/50\n",
            "\u001b[1m144/144\u001b[0m \u001b[32m━━━━━━━━━━━━━━━━━━━━\u001b[0m\u001b[37m\u001b[0m \u001b[1m37s\u001b[0m 256ms/step - accuracy: 0.4540 - loss: 1.1610 - val_accuracy: 0.2574 - val_loss: 1.6994\n",
            "Epoch 9/50\n",
            "\u001b[1m144/144\u001b[0m \u001b[32m━━━━━━━━━━━━━━━━━━━━\u001b[0m\u001b[37m\u001b[0m \u001b[1m43s\u001b[0m 273ms/step - accuracy: 0.3897 - loss: 1.2953 - val_accuracy: 0.4218 - val_loss: 1.1787\n",
            "Epoch 10/50\n",
            "\u001b[1m144/144\u001b[0m \u001b[32m━━━━━━━━━━━━━━━━━━━━\u001b[0m\u001b[37m\u001b[0m \u001b[1m41s\u001b[0m 273ms/step - accuracy: 0.4604 - loss: 1.1377 - val_accuracy: 0.4653 - val_loss: 1.1296\n",
            "Epoch 11/50\n",
            "\u001b[1m144/144\u001b[0m \u001b[32m━━━━━━━━━━━━━━━━━━━━\u001b[0m\u001b[37m\u001b[0m \u001b[1m41s\u001b[0m 273ms/step - accuracy: 0.4900 - loss: 1.1203 - val_accuracy: 0.4979 - val_loss: 1.0699\n",
            "Epoch 12/50\n",
            "\u001b[1m144/144\u001b[0m \u001b[32m━━━━━━━━━━━━━━━━━━━━\u001b[0m\u001b[37m\u001b[0m \u001b[1m37s\u001b[0m 256ms/step - accuracy: 0.5198 - loss: 1.0650 - val_accuracy: 0.5449 - val_loss: 1.0203\n",
            "Epoch 13/50\n",
            "\u001b[1m144/144\u001b[0m \u001b[32m━━━━━━━━━━━━━━━━━━━━\u001b[0m\u001b[37m\u001b[0m \u001b[1m44s\u001b[0m 274ms/step - accuracy: 0.5451 - loss: 1.0102 - val_accuracy: 0.5352 - val_loss: 1.0517\n",
            "Epoch 14/50\n",
            "\u001b[1m144/144\u001b[0m \u001b[32m━━━━━━━━━━━━━━━━━━━━\u001b[0m\u001b[37m\u001b[0m \u001b[1m38s\u001b[0m 256ms/step - accuracy: 0.5561 - loss: 0.9630 - val_accuracy: 0.5563 - val_loss: 1.0078\n",
            "Epoch 15/50\n",
            "\u001b[1m144/144\u001b[0m \u001b[32m━━━━━━━━━━━━━━━━━━━━\u001b[0m\u001b[37m\u001b[0m \u001b[1m37s\u001b[0m 257ms/step - accuracy: 0.5715 - loss: 0.9291 - val_accuracy: 0.5758 - val_loss: 0.9441\n",
            "Epoch 16/50\n",
            "\u001b[1m144/144\u001b[0m \u001b[32m━━━━━━━━━━━━━━━━━━━━\u001b[0m\u001b[37m\u001b[0m \u001b[1m44s\u001b[0m 275ms/step - accuracy: 0.6082 - loss: 0.8914 - val_accuracy: 0.6203 - val_loss: 0.8806\n",
            "Epoch 17/50\n",
            "\u001b[1m144/144\u001b[0m \u001b[32m━━━━━━━━━━━━━━━━━━━━\u001b[0m\u001b[37m\u001b[0m \u001b[1m37s\u001b[0m 257ms/step - accuracy: 0.6295 - loss: 0.8287 - val_accuracy: 0.6226 - val_loss: 0.8527\n",
            "Epoch 18/50\n",
            "\u001b[1m144/144\u001b[0m \u001b[32m━━━━━━━━━━━━━━━━━━━━\u001b[0m\u001b[37m\u001b[0m \u001b[1m41s\u001b[0m 257ms/step - accuracy: 0.6462 - loss: 0.8052 - val_accuracy: 0.6299 - val_loss: 0.8541\n",
            "Epoch 19/50\n",
            "\u001b[1m144/144\u001b[0m \u001b[32m━━━━━━━━━━━━━━━━━━━━\u001b[0m\u001b[37m\u001b[0m \u001b[1m41s\u001b[0m 257ms/step - accuracy: 0.6620 - loss: 0.7691 - val_accuracy: 0.6722 - val_loss: 0.7779\n",
            "Epoch 20/50\n",
            "\u001b[1m144/144\u001b[0m \u001b[32m━━━━━━━━━━━━━━━━━━━━\u001b[0m\u001b[37m\u001b[0m \u001b[1m37s\u001b[0m 257ms/step - accuracy: 0.6836 - loss: 0.7412 - val_accuracy: 0.6872 - val_loss: 0.7477\n",
            "Epoch 21/50\n",
            "\u001b[1m144/144\u001b[0m \u001b[32m━━━━━━━━━━━━━━━━━━━━\u001b[0m\u001b[37m\u001b[0m \u001b[1m44s\u001b[0m 275ms/step - accuracy: 0.6978 - loss: 0.6938 - val_accuracy: 0.6946 - val_loss: 0.7429\n",
            "Epoch 22/50\n",
            "\u001b[1m144/144\u001b[0m \u001b[32m━━━━━━━━━━━━━━━━━━━━\u001b[0m\u001b[37m\u001b[0m \u001b[1m38s\u001b[0m 258ms/step - accuracy: 0.7152 - loss: 0.6787 - val_accuracy: 0.6639 - val_loss: 0.8009\n",
            "Epoch 23/50\n",
            "\u001b[1m144/144\u001b[0m \u001b[32m━━━━━━━━━━━━━━━━━━━━\u001b[0m\u001b[37m\u001b[0m \u001b[1m41s\u001b[0m 257ms/step - accuracy: 0.6934 - loss: 0.7313 - val_accuracy: 0.7128 - val_loss: 0.7037\n",
            "Epoch 24/50\n",
            "\u001b[1m144/144\u001b[0m \u001b[32m━━━━━━━━━━━━━━━━━━━━\u001b[0m\u001b[37m\u001b[0m \u001b[1m41s\u001b[0m 257ms/step - accuracy: 0.7368 - loss: 0.6204 - val_accuracy: 0.7234 - val_loss: 0.6850\n",
            "Epoch 25/50\n",
            "\u001b[1m144/144\u001b[0m \u001b[32m━━━━━━━━━━━━━━━━━━━━\u001b[0m\u001b[37m\u001b[0m \u001b[1m41s\u001b[0m 257ms/step - accuracy: 0.7339 - loss: 0.6306 - val_accuracy: 0.7110 - val_loss: 0.6959\n",
            "Epoch 26/50\n",
            "\u001b[1m144/144\u001b[0m \u001b[32m━━━━━━━━━━━━━━━━━━━━\u001b[0m\u001b[37m\u001b[0m \u001b[1m37s\u001b[0m 257ms/step - accuracy: 0.7554 - loss: 0.5812 - val_accuracy: 0.6868 - val_loss: 0.8157\n",
            "Epoch 27/50\n",
            "\u001b[1m144/144\u001b[0m \u001b[32m━━━━━━━━━━━━━━━━━━━━\u001b[0m\u001b[37m\u001b[0m \u001b[1m41s\u001b[0m 258ms/step - accuracy: 0.7514 - loss: 0.5911 - val_accuracy: 0.7339 - val_loss: 0.6688\n",
            "Epoch 28/50\n",
            "\u001b[1m144/144\u001b[0m \u001b[32m━━━━━━━━━━━━━━━━━━━━\u001b[0m\u001b[37m\u001b[0m \u001b[1m43s\u001b[0m 276ms/step - accuracy: 0.7734 - loss: 0.5395 - val_accuracy: 0.7338 - val_loss: 0.6773\n",
            "Epoch 29/50\n",
            "\u001b[1m144/144\u001b[0m \u001b[32m━━━━━━━━━━━━━━━━━━━━\u001b[0m\u001b[37m\u001b[0m \u001b[1m41s\u001b[0m 275ms/step - accuracy: 0.7930 - loss: 0.4929 - val_accuracy: 0.7198 - val_loss: 0.6891\n",
            "Epoch 30/50\n",
            "\u001b[1m144/144\u001b[0m \u001b[32m━━━━━━━━━━━━━━━━━━━━\u001b[0m\u001b[37m\u001b[0m \u001b[1m40s\u001b[0m 274ms/step - accuracy: 0.7918 - loss: 0.4988 - val_accuracy: 0.7380 - val_loss: 0.7150\n",
            "Epoch 31/50\n",
            "\u001b[1m144/144\u001b[0m \u001b[32m━━━━━━━━━━━━━━━━━━━━\u001b[0m\u001b[37m\u001b[0m \u001b[1m40s\u001b[0m 275ms/step - accuracy: 0.8049 - loss: 0.4727 - val_accuracy: 0.7545 - val_loss: 0.6918\n",
            "Epoch 32/50\n",
            "\u001b[1m144/144\u001b[0m \u001b[32m━━━━━━━━━━━━━━━━━━━━\u001b[0m\u001b[37m\u001b[0m \u001b[1m38s\u001b[0m 257ms/step - accuracy: 0.8140 - loss: 0.4457 - val_accuracy: 0.7517 - val_loss: 0.6302\n",
            "Epoch 33/50\n",
            "\u001b[1m144/144\u001b[0m \u001b[32m━━━━━━━━━━━━━━━━━━━━\u001b[0m\u001b[37m\u001b[0m \u001b[1m37s\u001b[0m 257ms/step - accuracy: 0.8141 - loss: 0.4422 - val_accuracy: 0.7572 - val_loss: 0.6534\n",
            "Epoch 34/50\n",
            "\u001b[1m144/144\u001b[0m \u001b[32m━━━━━━━━━━━━━━━━━━━━\u001b[0m\u001b[37m\u001b[0m \u001b[1m39s\u001b[0m 274ms/step - accuracy: 0.8289 - loss: 0.4059 - val_accuracy: 0.7662 - val_loss: 0.6689\n",
            "Epoch 35/50\n",
            "\u001b[1m144/144\u001b[0m \u001b[32m━━━━━━━━━━━━━━━━━━━━\u001b[0m\u001b[37m\u001b[0m \u001b[1m39s\u001b[0m 258ms/step - accuracy: 0.8383 - loss: 0.3827 - val_accuracy: 0.7642 - val_loss: 0.7112\n",
            "Epoch 36/50\n",
            "\u001b[1m144/144\u001b[0m \u001b[32m━━━━━━━━━━━━━━━━━━━━\u001b[0m\u001b[37m\u001b[0m \u001b[1m43s\u001b[0m 275ms/step - accuracy: 0.8439 - loss: 0.3812 - val_accuracy: 0.7740 - val_loss: 0.6668\n",
            "Epoch 37/50\n",
            "\u001b[1m144/144\u001b[0m \u001b[32m━━━━━━━━━━━━━━━━━━━━\u001b[0m\u001b[37m\u001b[0m \u001b[1m38s\u001b[0m 258ms/step - accuracy: 0.8570 - loss: 0.3486 - val_accuracy: 0.7854 - val_loss: 0.6346\n",
            "Epoch 38/50\n",
            "\u001b[1m144/144\u001b[0m \u001b[32m━━━━━━━━━━━━━━━━━━━━\u001b[0m\u001b[37m\u001b[0m \u001b[1m40s\u001b[0m 275ms/step - accuracy: 0.8619 - loss: 0.3398 - val_accuracy: 0.7794 - val_loss: 0.6760\n",
            "Epoch 39/50\n",
            "\u001b[1m144/144\u001b[0m \u001b[32m━━━━━━━━━━━━━━━━━━━━\u001b[0m\u001b[37m\u001b[0m \u001b[1m41s\u001b[0m 275ms/step - accuracy: 0.8803 - loss: 0.3012 - val_accuracy: 0.7835 - val_loss: 0.6058\n",
            "Epoch 40/50\n",
            "\u001b[1m144/144\u001b[0m \u001b[32m━━━━━━━━━━━━━━━━━━━━\u001b[0m\u001b[37m\u001b[0m \u001b[1m38s\u001b[0m 258ms/step - accuracy: 0.8755 - loss: 0.3023 - val_accuracy: 0.7786 - val_loss: 0.7212\n",
            "Epoch 41/50\n",
            "\u001b[1m144/144\u001b[0m \u001b[32m━━━━━━━━━━━━━━━━━━━━\u001b[0m\u001b[37m\u001b[0m \u001b[1m37s\u001b[0m 257ms/step - accuracy: 0.8912 - loss: 0.2722 - val_accuracy: 0.7856 - val_loss: 0.7434\n",
            "Epoch 42/50\n",
            "\u001b[1m144/144\u001b[0m \u001b[32m━━━━━━━━━━━━━━━━━━━━\u001b[0m\u001b[37m\u001b[0m \u001b[1m44s\u001b[0m 275ms/step - accuracy: 0.8959 - loss: 0.2607 - val_accuracy: 0.7881 - val_loss: 0.7148\n",
            "Epoch 43/50\n",
            "\u001b[1m144/144\u001b[0m \u001b[32m━━━━━━━━━━━━━━━━━━━━\u001b[0m\u001b[37m\u001b[0m \u001b[1m38s\u001b[0m 258ms/step - accuracy: 0.8991 - loss: 0.2498 - val_accuracy: 0.7795 - val_loss: 0.7418\n",
            "Epoch 44/50\n",
            "\u001b[1m144/144\u001b[0m \u001b[32m━━━━━━━━━━━━━━━━━━━━\u001b[0m\u001b[37m\u001b[0m \u001b[1m40s\u001b[0m 275ms/step - accuracy: 0.9071 - loss: 0.2302 - val_accuracy: 0.7930 - val_loss: 0.7668\n",
            "Epoch 45/50\n",
            "\u001b[1m144/144\u001b[0m \u001b[32m━━━━━━━━━━━━━━━━━━━━\u001b[0m\u001b[37m\u001b[0m \u001b[1m37s\u001b[0m 258ms/step - accuracy: 0.9080 - loss: 0.2334 - val_accuracy: 0.7936 - val_loss: 0.9003\n",
            "Epoch 46/50\n",
            "\u001b[1m144/144\u001b[0m \u001b[32m━━━━━━━━━━━━━━━━━━━━\u001b[0m\u001b[37m\u001b[0m \u001b[1m41s\u001b[0m 258ms/step - accuracy: 0.9128 - loss: 0.2244 - val_accuracy: 0.7968 - val_loss: 0.8111\n",
            "Epoch 47/50\n",
            "\u001b[1m144/144\u001b[0m \u001b[32m━━━━━━━━━━━━━━━━━━━━\u001b[0m\u001b[37m\u001b[0m \u001b[1m43s\u001b[0m 275ms/step - accuracy: 0.9274 - loss: 0.1849 - val_accuracy: 0.7952 - val_loss: 0.7923\n",
            "Epoch 48/50\n",
            "\u001b[1m144/144\u001b[0m \u001b[32m━━━━━━━━━━━━━━━━━━━━\u001b[0m\u001b[37m\u001b[0m \u001b[1m38s\u001b[0m 258ms/step - accuracy: 0.9375 - loss: 0.1613 - val_accuracy: 0.7863 - val_loss: 0.9381\n",
            "Epoch 49/50\n",
            "\u001b[1m144/144\u001b[0m \u001b[32m━━━━━━━━━━━━━━━━━━━━\u001b[0m\u001b[37m\u001b[0m \u001b[1m43s\u001b[0m 275ms/step - accuracy: 0.9392 - loss: 0.1541 - val_accuracy: 0.8040 - val_loss: 1.0843\n",
            "Epoch 50/50\n",
            "\u001b[1m144/144\u001b[0m \u001b[32m━━━━━━━━━━━━━━━━━━━━\u001b[0m\u001b[37m\u001b[0m \u001b[1m40s\u001b[0m 275ms/step - accuracy: 0.9456 - loss: 0.1388 - val_accuracy: 0.8037 - val_loss: 1.1115\n"
          ]
        }
      ]
    },
    {
      "cell_type": "code",
      "source": [
        "#=== Evaluate Model ===\n",
        "# Reshape y_val to have the same spatial dimensions as the model output for evaluation\n",
        "y_val_reshaped_eval = y_val.reshape((-1, 1, 1, 1))  # Add spatial dimensions\n",
        "y_val_reshaped_eval = tf.tile(y_val_reshaped_eval, [1, 256, 256, 1])  # Tile to match output size\n",
        "\n",
        "evaluation = model.evaluate(X_val, y_val_reshaped_eval)  # Use the reshaped y_val for evaluation\n",
        "print(f'Validation Loss: {evaluation[0]}')\n",
        "print(f'Validation Accuracy: {evaluation[1]}')"
      ],
      "metadata": {
        "colab": {
          "base_uri": "https://localhost:8080/"
        },
        "id": "0pfbrECKtZ3u",
        "outputId": "675b64f1-f335-4f19-b006-422b7ce34ce7"
      },
      "execution_count": 21,
      "outputs": [
        {
          "output_type": "stream",
          "name": "stdout",
          "text": [
            "\u001b[1m18/18\u001b[0m \u001b[32m━━━━━━━━━━━━━━━━━━━━\u001b[0m\u001b[37m\u001b[0m \u001b[1m29s\u001b[0m 913ms/step - accuracy: 0.8174 - loss: 1.0076\n",
            "Validation Loss: 1.1114981174468994\n",
            "Validation Accuracy: 0.803698718547821\n"
          ]
        }
      ]
    },
    {
      "cell_type": "code",
      "source": [
        "# === Plot Training History ===\n",
        "plt.plot(history.history['accuracy'], label='accuracy')\n",
        "plt.plot(history.history['val_accuracy'], label='val_accuracy')\n",
        "plt.xlabel('Epochs')\n",
        "plt.ylabel('Accuracy')\n",
        "plt.legend()\n",
        "plt.show()"
      ],
      "metadata": {
        "colab": {
          "base_uri": "https://localhost:8080/",
          "height": 449
        },
        "id": "sJnnS68c1hbj",
        "outputId": "470cbb20-92f2-4f7d-8d9b-8696438db651"
      },
      "execution_count": 22,
      "outputs": [
        {
          "output_type": "display_data",
          "data": {
            "text/plain": [
              "<Figure size 640x480 with 1 Axes>"
            ],
            "image/png": "[encoded data removed]"
          },
          "metadata": {}
        }
      ]
    },
    {
      "cell_type": "code",
      "source": [],
      "metadata": {
        "id": "y0w3aQPN2Ido"
      },
      "execution_count": null,
      "outputs": []
    },
    {
      "cell_type": "code",
      "source": [],
      "metadata": {
        "id": "seprZCJq63ST"
      },
      "execution_count": null,
      "outputs": []
    },
    {
      "cell_type": "code",
      "source": [],
      "metadata": {
        "id": "N9U2sX4r63U7"
      },
      "execution_count": null,
      "outputs": []
    },
    {
      "cell_type": "code",
      "source": [],
      "metadata": {
        "id": "KUBbQARdAsYD"
      },
      "execution_count": null,
      "outputs": []
    },
    {
      "cell_type": "code",
      "source": [
        "import os\n",
        "import numpy as np\n",
        "import tensorflow as tf\n",
        "from tensorflow import keras\n",
        "from tensorflow.keras import layers\n",
        "from tensorflow.keras.preprocessing.image import load_img, img_to_array\n",
        "from sklearn.model_selection import train_test_split\n",
        "import matplotlib.pyplot as plt\n",
        "\n",
        "# === Load Dataset ===\n",
        "DATASET_PATH = '/content/Tumor_Dataset'\n",
        "CLASS_NAMES = ['glioma_tumor', 'pituitary_tumor', 'no_tumor', 'meningioma_tumor']\n",
        "IMG_SIZE = (128, 128)\n",
        "images = []\n",
        "labels = []\n",
        "\n",
        "for label, class_name in enumerate(CLASS_NAMES):\n",
        "    class_path = os.path.join(DATASET_PATH, class_name)\n",
        "    for img_name in os.listdir(class_path):\n",
        "        img_path = os.path.join(class_path, img_name)\n",
        "        img = load_img(img_path, target_size=IMG_SIZE)\n",
        "        img_array = img_to_array(img) / 255.0\n",
        "        images.append(img_array)\n",
        "        labels.append(label)\n",
        "\n",
        "images = np.array(images)\n",
        "labels = np.array(labels)\n",
        "\n",
        "# === Train-Test Split ===\n",
        "X_train, X_val, y_train, y_val = train_test_split(images, labels, test_size=0.2, random_state=42)\n",
        "\n",
        "# === Build U-Net Model ===\n",
        "def conv_block(inputs, num_filters):\n",
        "    x = layers.Conv2D(num_filters, (3, 3), padding=\"same\", activation=\"relu\")(inputs)\n",
        "    x = layers.Conv2D(num_filters, (3, 3), padding=\"same\", activation=\"relu\")(x)\n",
        "    return x\n",
        "\n",
        "def unet_model(input_shape, num_classes):\n",
        "    inputs = layers.Input(shape=input_shape)\n",
        "\n",
        "    # Encoder\n",
        "    c1 = conv_block(inputs, 32)\n",
        "    p1 = layers.MaxPooling2D((2, 2))(c1)\n",
        "\n",
        "    c2 = conv_block(p1, 64)\n",
        "    p2 = layers.MaxPooling2D((2, 2))(c2)\n",
        "\n",
        "    c3 = conv_block(p2, 128)\n",
        "    p3 = layers.MaxPooling2D((2, 2))(c3)\n",
        "\n",
        "    # Bottleneck\n",
        "    c4 = conv_block(p3, 256)\n",
        "\n",
        "    # Decoder\n",
        "    u1 = layers.UpSampling2D((2, 2))(c4)\n",
        "    u1 = layers.concatenate([u1, c3])\n",
        "    c5 = conv_block(u1, 128)\n",
        "\n",
        "    u2 = layers.UpSampling2D((2, 2))(c5)\n",
        "    u2 = layers.concatenate([u2, c2])\n",
        "    c6 = conv_block(u2, 64)\n",
        "\n",
        "    u3 = layers.UpSampling2D((2, 2))(c6)\n",
        "    u3 = layers.concatenate([u3, c1])\n",
        "    c7 = conv_block(u3, 32)\n",
        "\n",
        "    outputs = layers.Conv2D(num_classes, (1, 1), activation=\"softmax\")(c7)\n",
        "\n",
        "    model = keras.Model(inputs, outputs)\n",
        "    return model\n",
        "\n",
        "# === Compile and Train Model ===\n",
        "model = unet_model(input_shape=(128, 128, 3), num_classes=4)\n",
        "model.compile(optimizer='adam', loss='sparse_categorical_crossentropy', metrics=['accuracy'])\n",
        "\n",
        "# Reshape y_train and y_val to have the same spatial dimensions as the model output\n",
        "y_train_reshaped = y_train.reshape((-1, 1, 1, 1))  # Add spatial dimensions\n",
        "y_train_reshaped = tf.tile(y_train_reshaped, [1, 128, 128, 1]) # Tile to match output size\n",
        "\n",
        "y_val_reshaped = y_val.reshape((-1, 1, 1, 1))  # Add spatial dimensions\n",
        "y_val_reshaped = tf.tile(y_val_reshaped, [1, 128, 128, 1])  # Tile to match output size\n",
        "\n",
        "history = model.fit(X_train, y_train_reshaped, validation_data=(X_val, y_val_reshaped), epochs=50, batch_size=16)\n",
        "\n",
        "# === Evaluate Model ===\n",
        "y_val_reshaped_eval = y_val.reshape((-1, 1, 1, 1))\n",
        "y_val_reshaped_eval = tf.tile(y_val_reshaped_eval, [1, 128, 128, 1])\n",
        "\n",
        "evaluation = model.evaluate(X_val, y_val_reshaped_eval)\n",
        "print(f'Validation Loss: {evaluation[0]}')\n",
        "print(f'Validation Accuracy: {evaluation[1]}')\n",
        "\n",
        "# Save model\n",
        "model.save('mri_tumor_segmentation_unet.h5')\n",
        "print(\"Model training complete and saved as 'mri_tumor_segmentation_unet.h5'\")\n"
      ],
      "metadata": {
        "colab": {
          "base_uri": "https://localhost:8080/"
        },
        "id": "Saa8R4NOA-kF",
        "outputId": "d835d5b4-72a9-4d67-c468-f80af3b58f2e"
      },
      "execution_count": 8,
      "outputs": [
        {
          "output_type": "stream",
          "name": "stdout",
          "text": [
            "Epoch 1/50\n",
            "\u001b[1m144/144\u001b[0m \u001b[32m━━━━━━━━━━━━━━━━━━━━\u001b[0m\u001b[37m\u001b[0m \u001b[1m45s\u001b[0m 197ms/step - accuracy: 0.3007 - loss: 1.3556 - val_accuracy: 0.3683 - val_loss: 1.3101\n",
            "Epoch 2/50\n",
            "\u001b[1m144/144\u001b[0m \u001b[32m━━━━━━━━━━━━━━━━━━━━\u001b[0m\u001b[37m\u001b[0m \u001b[1m11s\u001b[0m 72ms/step - accuracy: 0.3457 - loss: 1.3243 - val_accuracy: 0.3878 - val_loss: 1.3067\n",
            "Epoch 3/50\n",
            "\u001b[1m144/144\u001b[0m \u001b[32m━━━━━━━━━━━━━━━━━━━━\u001b[0m\u001b[37m\u001b[0m \u001b[1m10s\u001b[0m 68ms/step - accuracy: 0.3730 - loss: 1.3045 - val_accuracy: 0.4027 - val_loss: 1.2982\n",
            "Epoch 4/50\n",
            "\u001b[1m144/144\u001b[0m \u001b[32m━━━━━━━━━━━━━━━━━━━━\u001b[0m\u001b[37m\u001b[0m \u001b[1m10s\u001b[0m 67ms/step - accuracy: 0.4262 - loss: 1.2200 - val_accuracy: 0.5119 - val_loss: 1.1303\n",
            "Epoch 5/50\n",
            "\u001b[1m144/144\u001b[0m \u001b[32m━━━━━━━━━━━━━━━━━━━━\u001b[0m\u001b[37m\u001b[0m \u001b[1m10s\u001b[0m 68ms/step - accuracy: 0.4677 - loss: 1.1499 - val_accuracy: 0.5263 - val_loss: 1.0737\n",
            "Epoch 6/50\n",
            "\u001b[1m144/144\u001b[0m \u001b[32m━━━━━━━━━━━━━━━━━━━━\u001b[0m\u001b[37m\u001b[0m \u001b[1m10s\u001b[0m 68ms/step - accuracy: 0.4969 - loss: 1.0801 - val_accuracy: 0.5362 - val_loss: 1.0518\n",
            "Epoch 7/50\n",
            "\u001b[1m144/144\u001b[0m \u001b[32m━━━━━━━━━━━━━━━━━━━━\u001b[0m\u001b[37m\u001b[0m \u001b[1m10s\u001b[0m 68ms/step - accuracy: 0.5228 - loss: 1.0420 - val_accuracy: 0.5940 - val_loss: 0.9293\n",
            "Epoch 8/50\n",
            "\u001b[1m144/144\u001b[0m \u001b[32m━━━━━━━━━━━━━━━━━━━━\u001b[0m\u001b[37m\u001b[0m \u001b[1m10s\u001b[0m 67ms/step - accuracy: 0.5689 - loss: 0.9567 - val_accuracy: 0.5044 - val_loss: 1.1189\n",
            "Epoch 9/50\n",
            "\u001b[1m144/144\u001b[0m \u001b[32m━━━━━━━━━━━━━━━━━━━━\u001b[0m\u001b[37m\u001b[0m \u001b[1m10s\u001b[0m 68ms/step - accuracy: 0.5699 - loss: 0.9384 - val_accuracy: 0.6029 - val_loss: 0.9072\n",
            "Epoch 10/50\n",
            "\u001b[1m144/144\u001b[0m \u001b[32m━━━━━━━━━━━━━━━━━━━━\u001b[0m\u001b[37m\u001b[0m \u001b[1m10s\u001b[0m 68ms/step - accuracy: 0.6230 - loss: 0.8342 - val_accuracy: 0.6300 - val_loss: 0.8584\n",
            "Epoch 11/50\n",
            "\u001b[1m144/144\u001b[0m \u001b[32m━━━━━━━━━━━━━━━━━━━━\u001b[0m\u001b[37m\u001b[0m \u001b[1m10s\u001b[0m 68ms/step - accuracy: 0.6233 - loss: 0.8507 - val_accuracy: 0.6488 - val_loss: 0.8105\n",
            "Epoch 12/50\n",
            "\u001b[1m144/144\u001b[0m \u001b[32m━━━━━━━━━━━━━━━━━━━━\u001b[0m\u001b[37m\u001b[0m \u001b[1m10s\u001b[0m 72ms/step - accuracy: 0.6359 - loss: 0.7844 - val_accuracy: 0.6640 - val_loss: 0.7772\n",
            "Epoch 13/50\n",
            "\u001b[1m144/144\u001b[0m \u001b[32m━━━━━━━━━━━━━━━━━━━━\u001b[0m\u001b[37m\u001b[0m \u001b[1m20s\u001b[0m 68ms/step - accuracy: 0.6689 - loss: 0.7539 - val_accuracy: 0.6610 - val_loss: 0.7776\n",
            "Epoch 14/50\n",
            "\u001b[1m144/144\u001b[0m \u001b[32m━━━━━━━━━━━━━━━━━━━━\u001b[0m\u001b[37m\u001b[0m \u001b[1m10s\u001b[0m 68ms/step - accuracy: 0.6936 - loss: 0.7128 - val_accuracy: 0.7063 - val_loss: 0.7081\n",
            "Epoch 15/50\n",
            "\u001b[1m144/144\u001b[0m \u001b[32m━━━━━━━━━━━━━━━━━━━━\u001b[0m\u001b[37m\u001b[0m \u001b[1m10s\u001b[0m 69ms/step - accuracy: 0.7213 - loss: 0.6516 - val_accuracy: 0.7176 - val_loss: 0.6933\n",
            "Epoch 16/50\n",
            "\u001b[1m144/144\u001b[0m \u001b[32m━━━━━━━━━━━━━━━━━━━━\u001b[0m\u001b[37m\u001b[0m \u001b[1m10s\u001b[0m 73ms/step - accuracy: 0.7379 - loss: 0.6162 - val_accuracy: 0.7153 - val_loss: 0.6659\n",
            "Epoch 17/50\n",
            "\u001b[1m144/144\u001b[0m \u001b[32m━━━━━━━━━━━━━━━━━━━━\u001b[0m\u001b[37m\u001b[0m \u001b[1m20s\u001b[0m 67ms/step - accuracy: 0.7455 - loss: 0.5967 - val_accuracy: 0.7118 - val_loss: 0.7228\n",
            "Epoch 18/50\n",
            "\u001b[1m144/144\u001b[0m \u001b[32m━━━━━━━━━━━━━━━━━━━━\u001b[0m\u001b[37m\u001b[0m \u001b[1m10s\u001b[0m 72ms/step - accuracy: 0.7725 - loss: 0.5494 - val_accuracy: 0.7642 - val_loss: 0.6020\n",
            "Epoch 19/50\n",
            "\u001b[1m144/144\u001b[0m \u001b[32m━━━━━━━━━━━━━━━━━━━━\u001b[0m\u001b[37m\u001b[0m \u001b[1m20s\u001b[0m 72ms/step - accuracy: 0.7701 - loss: 0.5458 - val_accuracy: 0.7568 - val_loss: 0.6144\n",
            "Epoch 20/50\n",
            "\u001b[1m144/144\u001b[0m \u001b[32m━━━━━━━━━━━━━━━━━━━━\u001b[0m\u001b[37m\u001b[0m \u001b[1m10s\u001b[0m 73ms/step - accuracy: 0.8035 - loss: 0.4904 - val_accuracy: 0.7643 - val_loss: 0.5941\n",
            "Epoch 21/50\n",
            "\u001b[1m144/144\u001b[0m \u001b[32m━━━━━━━━━━━━━━━━━━━━\u001b[0m\u001b[37m\u001b[0m \u001b[1m20s\u001b[0m 68ms/step - accuracy: 0.8052 - loss: 0.4797 - val_accuracy: 0.7566 - val_loss: 0.6812\n",
            "Epoch 22/50\n",
            "\u001b[1m144/144\u001b[0m \u001b[32m━━━━━━━━━━━━━━━━━━━━\u001b[0m\u001b[37m\u001b[0m \u001b[1m10s\u001b[0m 68ms/step - accuracy: 0.8199 - loss: 0.4587 - val_accuracy: 0.7790 - val_loss: 0.5859\n",
            "Epoch 23/50\n",
            "\u001b[1m144/144\u001b[0m \u001b[32m━━━━━━━━━━━━━━━━━━━━\u001b[0m\u001b[37m\u001b[0m \u001b[1m10s\u001b[0m 68ms/step - accuracy: 0.8107 - loss: 0.4623 - val_accuracy: 0.7907 - val_loss: 0.5656\n",
            "Epoch 24/50\n",
            "\u001b[1m144/144\u001b[0m \u001b[32m━━━━━━━━━━━━━━━━━━━━\u001b[0m\u001b[37m\u001b[0m \u001b[1m10s\u001b[0m 68ms/step - accuracy: 0.8492 - loss: 0.3865 - val_accuracy: 0.8145 - val_loss: 0.5213\n",
            "Epoch 25/50\n",
            "\u001b[1m144/144\u001b[0m \u001b[32m━━━━━━━━━━━━━━━━━━━━\u001b[0m\u001b[37m\u001b[0m \u001b[1m10s\u001b[0m 68ms/step - accuracy: 0.8585 - loss: 0.3724 - val_accuracy: 0.8071 - val_loss: 0.5633\n",
            "Epoch 26/50\n",
            "\u001b[1m144/144\u001b[0m \u001b[32m━━━━━━━━━━━━━━━━━━━━\u001b[0m\u001b[37m\u001b[0m \u001b[1m11s\u001b[0m 72ms/step - accuracy: 0.8564 - loss: 0.3647 - val_accuracy: 0.8080 - val_loss: 0.5403\n",
            "Epoch 27/50\n",
            "\u001b[1m144/144\u001b[0m \u001b[32m━━━━━━━━━━━━━━━━━━━━\u001b[0m\u001b[37m\u001b[0m \u001b[1m20s\u001b[0m 68ms/step - accuracy: 0.8695 - loss: 0.3333 - val_accuracy: 0.8192 - val_loss: 0.5113\n",
            "Epoch 28/50\n",
            "\u001b[1m144/144\u001b[0m \u001b[32m━━━━━━━━━━━━━━━━━━━━\u001b[0m\u001b[37m\u001b[0m \u001b[1m11s\u001b[0m 72ms/step - accuracy: 0.8726 - loss: 0.3348 - val_accuracy: 0.8096 - val_loss: 0.5451\n",
            "Epoch 29/50\n",
            "\u001b[1m144/144\u001b[0m \u001b[32m━━━━━━━━━━━━━━━━━━━━\u001b[0m\u001b[37m\u001b[0m \u001b[1m20s\u001b[0m 69ms/step - accuracy: 0.8732 - loss: 0.3300 - val_accuracy: 0.8255 - val_loss: 0.5233\n",
            "Epoch 30/50\n",
            "\u001b[1m144/144\u001b[0m \u001b[32m━━━━━━━━━━━━━━━━━━━━\u001b[0m\u001b[37m\u001b[0m \u001b[1m10s\u001b[0m 69ms/step - accuracy: 0.8928 - loss: 0.2794 - val_accuracy: 0.8216 - val_loss: 0.5203\n",
            "Epoch 31/50\n",
            "\u001b[1m144/144\u001b[0m \u001b[32m━━━━━━━━━━━━━━━━━━━━\u001b[0m\u001b[37m\u001b[0m \u001b[1m10s\u001b[0m 73ms/step - accuracy: 0.9032 - loss: 0.2604 - val_accuracy: 0.8171 - val_loss: 0.5624\n",
            "Epoch 32/50\n",
            "\u001b[1m144/144\u001b[0m \u001b[32m━━━━━━━━━━━━━━━━━━━━\u001b[0m\u001b[37m\u001b[0m \u001b[1m10s\u001b[0m 72ms/step - accuracy: 0.9181 - loss: 0.2219 - val_accuracy: 0.8404 - val_loss: 0.5411\n",
            "Epoch 33/50\n",
            "\u001b[1m144/144\u001b[0m \u001b[32m━━━━━━━━━━━━━━━━━━━━\u001b[0m\u001b[37m\u001b[0m \u001b[1m20s\u001b[0m 68ms/step - accuracy: 0.9193 - loss: 0.2135 - val_accuracy: 0.8246 - val_loss: 0.5813\n",
            "Epoch 34/50\n",
            "\u001b[1m144/144\u001b[0m \u001b[32m━━━━━━━━━━━━━━━━━━━━\u001b[0m\u001b[37m\u001b[0m \u001b[1m10s\u001b[0m 68ms/step - accuracy: 0.9298 - loss: 0.1882 - val_accuracy: 0.8320 - val_loss: 0.6380\n",
            "Epoch 35/50\n",
            "\u001b[1m144/144\u001b[0m \u001b[32m━━━━━━━━━━━━━━━━━━━━\u001b[0m\u001b[37m\u001b[0m \u001b[1m11s\u001b[0m 73ms/step - accuracy: 0.9330 - loss: 0.1795 - val_accuracy: 0.8436 - val_loss: 0.6022\n",
            "Epoch 36/50\n",
            "\u001b[1m144/144\u001b[0m \u001b[32m━━━━━━━━━━━━━━━━━━━━\u001b[0m\u001b[37m\u001b[0m \u001b[1m20s\u001b[0m 68ms/step - accuracy: 0.9390 - loss: 0.1650 - val_accuracy: 0.8359 - val_loss: 0.6784\n",
            "Epoch 37/50\n",
            "\u001b[1m144/144\u001b[0m \u001b[32m━━━━━━━━━━━━━━━━━━━━\u001b[0m\u001b[37m\u001b[0m \u001b[1m10s\u001b[0m 69ms/step - accuracy: 0.9474 - loss: 0.1415 - val_accuracy: 0.8424 - val_loss: 0.5858\n",
            "Epoch 38/50\n",
            "\u001b[1m144/144\u001b[0m \u001b[32m━━━━━━━━━━━━━━━━━━━━\u001b[0m\u001b[37m\u001b[0m \u001b[1m10s\u001b[0m 69ms/step - accuracy: 0.9526 - loss: 0.1265 - val_accuracy: 0.8484 - val_loss: 0.6529\n",
            "Epoch 39/50\n",
            "\u001b[1m144/144\u001b[0m \u001b[32m━━━━━━━━━━━━━━━━━━━━\u001b[0m\u001b[37m\u001b[0m \u001b[1m11s\u001b[0m 72ms/step - accuracy: 0.9613 - loss: 0.1056 - val_accuracy: 0.8507 - val_loss: 0.7599\n",
            "Epoch 40/50\n",
            "\u001b[1m144/144\u001b[0m \u001b[32m━━━━━━━━━━━━━━━━━━━━\u001b[0m\u001b[37m\u001b[0m \u001b[1m20s\u001b[0m 68ms/step - accuracy: 0.9605 - loss: 0.1053 - val_accuracy: 0.8530 - val_loss: 0.6993\n",
            "Epoch 41/50\n",
            "\u001b[1m144/144\u001b[0m \u001b[32m━━━━━━━━━━━━━━━━━━━━\u001b[0m\u001b[37m\u001b[0m \u001b[1m10s\u001b[0m 72ms/step - accuracy: 0.9674 - loss: 0.0910 - val_accuracy: 0.8462 - val_loss: 0.6640\n",
            "Epoch 42/50\n",
            "\u001b[1m144/144\u001b[0m \u001b[32m━━━━━━━━━━━━━━━━━━━━\u001b[0m\u001b[37m\u001b[0m \u001b[1m21s\u001b[0m 73ms/step - accuracy: 0.9656 - loss: 0.0958 - val_accuracy: 0.8459 - val_loss: 0.6733\n",
            "Epoch 43/50\n",
            "\u001b[1m144/144\u001b[0m \u001b[32m━━━━━━━━━━━━━━━━━━━━\u001b[0m\u001b[37m\u001b[0m \u001b[1m20s\u001b[0m 69ms/step - accuracy: 0.9626 - loss: 0.0998 - val_accuracy: 0.8591 - val_loss: 0.7523\n",
            "Epoch 44/50\n",
            "\u001b[1m144/144\u001b[0m \u001b[32m━━━━━━━━━━━━━━━━━━━━\u001b[0m\u001b[37m\u001b[0m \u001b[1m11s\u001b[0m 73ms/step - accuracy: 0.9759 - loss: 0.0639 - val_accuracy: 0.8449 - val_loss: 0.7350\n",
            "Epoch 45/50\n",
            "\u001b[1m144/144\u001b[0m \u001b[32m━━━━━━━━━━━━━━━━━━━━\u001b[0m\u001b[37m\u001b[0m \u001b[1m20s\u001b[0m 72ms/step - accuracy: 0.9740 - loss: 0.0762 - val_accuracy: 0.8551 - val_loss: 0.8725\n",
            "Epoch 46/50\n",
            "\u001b[1m144/144\u001b[0m \u001b[32m━━━━━━━━━━━━━━━━━━━━\u001b[0m\u001b[37m\u001b[0m \u001b[1m20s\u001b[0m 69ms/step - accuracy: 0.9813 - loss: 0.0501 - val_accuracy: 0.8558 - val_loss: 0.9215\n",
            "Epoch 47/50\n",
            "\u001b[1m144/144\u001b[0m \u001b[32m━━━━━━━━━━━━━━━━━━━━\u001b[0m\u001b[37m\u001b[0m \u001b[1m11s\u001b[0m 73ms/step - accuracy: 0.9822 - loss: 0.0493 - val_accuracy: 0.8539 - val_loss: 0.8121\n",
            "Epoch 48/50\n",
            "\u001b[1m144/144\u001b[0m \u001b[32m━━━━━━━━━━━━━━━━━━━━\u001b[0m\u001b[37m\u001b[0m \u001b[1m20s\u001b[0m 73ms/step - accuracy: 0.9827 - loss: 0.0484 - val_accuracy: 0.8502 - val_loss: 0.7353\n",
            "Epoch 49/50\n",
            "\u001b[1m144/144\u001b[0m \u001b[32m━━━━━━━━━━━━━━━━━━━━\u001b[0m\u001b[37m\u001b[0m \u001b[1m10s\u001b[0m 73ms/step - accuracy: 0.9757 - loss: 0.0708 - val_accuracy: 0.8393 - val_loss: 0.7707\n",
            "Epoch 50/50\n",
            "\u001b[1m144/144\u001b[0m \u001b[32m━━━━━━━━━━━━━━━━━━━━\u001b[0m\u001b[37m\u001b[0m \u001b[1m10s\u001b[0m 73ms/step - accuracy: 0.9678 - loss: 0.0950 - val_accuracy: 0.8548 - val_loss: 0.8825\n",
            "\u001b[1m18/18\u001b[0m \u001b[32m━━━━━━━━━━━━━━━━━━━━\u001b[0m\u001b[37m\u001b[0m \u001b[1m8s\u001b[0m 242ms/step - accuracy: 0.8651 - loss: 0.8335\n"
          ]
        },
        {
          "output_type": "stream",
          "name": "stderr",
          "text": [
            "WARNING:absl:You are saving your model as an HDF5 file via `model.save()` or `keras.saving.save_model(model)`. This file format is considered legacy. We recommend using instead the native Keras format, e.g. `model.save('my_model.keras')` or `keras.saving.save_model(model, 'my_model.keras')`. \n"
          ]
        },
        {
          "output_type": "stream",
          "name": "stdout",
          "text": [
            "Validation Loss: 0.8825299143791199\n",
            "Validation Accuracy: 0.8548485040664673\n",
            "Model training complete and saved as 'mri_tumor_segmentation_unet.h5'\n"
          ]
        }
      ]
    },
    {
      "cell_type": "code",
      "source": [
        "import tensorflow as tf\n",
        "print(tf.__version__)"
      ],
      "metadata": {
        "colab": {
          "base_uri": "https://localhost:8080/"
        },
        "id": "eA_cWzD2A-nk",
        "outputId": "2228098b-cf58-4a49-f1c3-8e4eecb4ba93"
      },
      "execution_count": 9,
      "outputs": [
        {
          "output_type": "stream",
          "name": "stdout",
          "text": [
            "2.18.0\n"
          ]
        }
      ]
    },
    {
      "cell_type": "code",
      "source": [
        "import numpy as np\n",
        "print(np.__version__)"
      ],
      "metadata": {
        "colab": {
          "base_uri": "https://localhost:8080/"
        },
        "id": "ayoxcEuEGF5R",
        "outputId": "736dbfcd-8d5b-4f18-d0ab-178e32b234e8"
      },
      "execution_count": 10,
      "outputs": [
        {
          "output_type": "stream",
          "name": "stdout",
          "text": [
            "1.26.4\n"
          ]
        }
      ]
    },
    {
      "cell_type": "code",
      "source": [
        "import os\n",
        "import numpy as np\n",
        "import tensorflow as tf\n",
        "from tensorflow import keras\n",
        "from tensorflow.keras import layers\n",
        "from tensorflow.keras.applications import MobileNetV2\n",
        "from tensorflow.keras.preprocessing.image import img_to_array, load_img\n",
        "from sklearn.model_selection import train_test_split\n",
        "from sklearn.preprocessing import LabelEncoder\n",
        "import matplotlib.pyplot as plt\n",
        "\n",
        "# === Load Dataset ===\n",
        "DATASET_PATH = '/content/Tumor_Dataset'\n",
        "CLASS_NAMES = ['glioma_tumor', 'pituitary_tumor', 'no_tumor', 'meningioma_tumor']\n",
        "IMG_SIZE = (128, 128)\n",
        "images = []\n",
        "labels = []\n",
        "\n",
        "# Load images and their corresponding labels\n",
        "for label, class_name in enumerate(CLASS_NAMES):\n",
        "    class_path = os.path.join(DATASET_PATH, class_name)\n",
        "    for img_name in os.listdir(class_path):\n",
        "        img_path = os.path.join(class_path, img_name)\n",
        "        img = load_img(img_path, target_size=IMG_SIZE)\n",
        "        img_array = img_to_array(img) / 255.0\n",
        "        images.append(img_array)\n",
        "        labels.append(class_name)\n",
        "\n",
        "images = np.array(images)\n",
        "labels = np.array(labels)\n",
        "\n",
        "# === Label Encoding ===\n",
        "label_encoder = LabelEncoder()\n",
        "labels = label_encoder.fit_transform(labels)\n",
        "\n",
        "# === Train-Test Split ===\n",
        "X_train, X_val, y_train, y_val = train_test_split(images, labels, test_size=0.2, random_state=42)\n",
        "\n",
        "# === Build MobileNetV2 Model ===\n",
        "def build_mobilenet_model(input_shape, num_classes):\n",
        "    base_model = MobileNetV2(input_shape=input_shape, include_top=False, weights='imagenet')\n",
        "    base_model.trainable = False  # Freeze the base model\n",
        "\n",
        "    model = keras.Sequential([\n",
        "        base_model,\n",
        "        layers.GlobalAveragePooling2D(),\n",
        "        layers.Dense(128, activation='relu'),\n",
        "        layers.Dense(num_classes, activation='softmax')\n",
        "    ])\n",
        "\n",
        "    model.compile(optimizer='adam', loss='sparse_categorical_crossentropy', metrics=['accuracy'])\n",
        "    return model\n",
        "\n",
        "# === Build and Train the Classification Model ===\n",
        "model = build_mobilenet_model(input_shape=(128, 128, 3), num_classes=len(CLASS_NAMES))\n",
        "\n",
        "history = model.fit(X_train, y_train, validation_data=(X_val, y_val), epochs=20, batch_size=16)\n",
        "\n",
        "# === Evaluate Model ===\n",
        "evaluation = model.evaluate(X_val, y_val)\n",
        "print(f'Validation Loss: {evaluation[0]}')\n",
        "print(f'Validation Accuracy: {evaluation[1]}')\n",
        "\n",
        "# Save the classification model\n",
        "model.save('tumor_classification_mobilenetv2.h5')\n",
        "print(\"Classification model training complete and saved as 'tumor_classification_mobilenetv2.h5'\")\n"
      ],
      "metadata": {
        "colab": {
          "base_uri": "https://localhost:8080/"
        },
        "id": "6MOv6qKoGJZu",
        "outputId": "e3ca0453-1a53-44e2-9498-d1f4176d2da9"
      },
      "execution_count": 3,
      "outputs": [
        {
          "output_type": "stream",
          "name": "stdout",
          "text": [
            "Downloading data from https://storage.googleapis.com/tensorflow/keras-applications/mobilenet_v2/mobilenet_v2_weights_tf_dim_ordering_tf_kernels_1.0_128_no_top.h5\n",
            "\u001b[1m9406464/9406464\u001b[0m \u001b[32m━━━━━━━━━━━━━━━━━━━━\u001b[0m\u001b[37m\u001b[0m \u001b[1m0s\u001b[0m 0us/step\n",
            "Epoch 1/20\n",
            "\u001b[1m144/144\u001b[0m \u001b[32m━━━━━━━━━━━━━━━━━━━━\u001b[0m\u001b[37m\u001b[0m \u001b[1m43s\u001b[0m 260ms/step - accuracy: 0.7228 - loss: 0.7237 - val_accuracy: 0.8693 - val_loss: 0.3579\n",
            "Epoch 2/20\n",
            "\u001b[1m144/144\u001b[0m \u001b[32m━━━━━━━━━━━━━━━━━━━━\u001b[0m\u001b[37m\u001b[0m \u001b[1m41s\u001b[0m 259ms/step - accuracy: 0.8893 - loss: 0.3161 - val_accuracy: 0.8868 - val_loss: 0.3183\n",
            "Epoch 3/20\n",
            "\u001b[1m144/144\u001b[0m \u001b[32m━━━━━━━━━━━━━━━━━━━━\u001b[0m\u001b[37m\u001b[0m \u001b[1m41s\u001b[0m 258ms/step - accuracy: 0.9231 - loss: 0.2194 - val_accuracy: 0.9007 - val_loss: 0.2709\n",
            "Epoch 4/20\n",
            "\u001b[1m144/144\u001b[0m \u001b[32m━━━━━━━━━━━━━━━━━━━━\u001b[0m\u001b[37m\u001b[0m \u001b[1m37s\u001b[0m 228ms/step - accuracy: 0.9451 - loss: 0.1667 - val_accuracy: 0.9077 - val_loss: 0.2534\n",
            "Epoch 5/20\n",
            "\u001b[1m144/144\u001b[0m \u001b[32m━━━━━━━━━━━━━━━━━━━━\u001b[0m\u001b[37m\u001b[0m \u001b[1m41s\u001b[0m 229ms/step - accuracy: 0.9666 - loss: 0.1139 - val_accuracy: 0.9111 - val_loss: 0.2506\n",
            "Epoch 6/20\n",
            "\u001b[1m144/144\u001b[0m \u001b[32m━━━━━━━━━━━━━━━━━━━━\u001b[0m\u001b[37m\u001b[0m \u001b[1m37s\u001b[0m 259ms/step - accuracy: 0.9666 - loss: 0.0879 - val_accuracy: 0.9111 - val_loss: 0.2401\n",
            "Epoch 7/20\n",
            "\u001b[1m144/144\u001b[0m \u001b[32m━━━━━━━━━━━━━━━━━━━━\u001b[0m\u001b[37m\u001b[0m \u001b[1m37s\u001b[0m 229ms/step - accuracy: 0.9844 - loss: 0.0610 - val_accuracy: 0.9111 - val_loss: 0.2663\n",
            "Epoch 8/20\n",
            "\u001b[1m144/144\u001b[0m \u001b[32m━━━━━━━━━━━━━━━━━━━━\u001b[0m\u001b[37m\u001b[0m \u001b[1m45s\u001b[0m 260ms/step - accuracy: 0.9893 - loss: 0.0503 - val_accuracy: 0.9146 - val_loss: 0.2412\n",
            "Epoch 9/20\n",
            "\u001b[1m144/144\u001b[0m \u001b[32m━━━━━━━━━━━━━━━━━━━━\u001b[0m\u001b[37m\u001b[0m \u001b[1m41s\u001b[0m 259ms/step - accuracy: 0.9928 - loss: 0.0316 - val_accuracy: 0.9111 - val_loss: 0.2635\n",
            "Epoch 10/20\n",
            "\u001b[1m144/144\u001b[0m \u001b[32m━━━━━━━━━━━━━━━━━━━━\u001b[0m\u001b[37m\u001b[0m \u001b[1m41s\u001b[0m 259ms/step - accuracy: 0.9968 - loss: 0.0296 - val_accuracy: 0.9268 - val_loss: 0.2321\n",
            "Epoch 11/20\n",
            "\u001b[1m144/144\u001b[0m \u001b[32m━━━━━━━━━━━━━━━━━━━━\u001b[0m\u001b[37m\u001b[0m \u001b[1m43s\u001b[0m 276ms/step - accuracy: 0.9956 - loss: 0.0215 - val_accuracy: 0.9216 - val_loss: 0.2600\n",
            "Epoch 12/20\n",
            "\u001b[1m144/144\u001b[0m \u001b[32m━━━━━━━━━━━━━━━━━━━━\u001b[0m\u001b[37m\u001b[0m \u001b[1m36s\u001b[0m 252ms/step - accuracy: 0.9988 - loss: 0.0165 - val_accuracy: 0.9181 - val_loss: 0.2564\n",
            "Epoch 13/20\n",
            "\u001b[1m144/144\u001b[0m \u001b[32m━━━━━━━━━━━━━━━━━━━━\u001b[0m\u001b[37m\u001b[0m \u001b[1m42s\u001b[0m 260ms/step - accuracy: 0.9991 - loss: 0.0122 - val_accuracy: 0.9216 - val_loss: 0.2595\n",
            "Epoch 14/20\n",
            "\u001b[1m144/144\u001b[0m \u001b[32m━━━━━━━━━━━━━━━━━━━━\u001b[0m\u001b[37m\u001b[0m \u001b[1m37s\u001b[0m 260ms/step - accuracy: 0.9990 - loss: 0.0124 - val_accuracy: 0.9251 - val_loss: 0.2534\n",
            "Epoch 15/20\n",
            "\u001b[1m144/144\u001b[0m \u001b[32m━━━━━━━━━━━━━━━━━━━━\u001b[0m\u001b[37m\u001b[0m \u001b[1m41s\u001b[0m 262ms/step - accuracy: 1.0000 - loss: 0.0053 - val_accuracy: 0.9216 - val_loss: 0.2509\n",
            "Epoch 16/20\n",
            "\u001b[1m144/144\u001b[0m \u001b[32m━━━━━━━━━━━━━━━━━━━━\u001b[0m\u001b[37m\u001b[0m \u001b[1m41s\u001b[0m 259ms/step - accuracy: 1.0000 - loss: 0.0041 - val_accuracy: 0.9233 - val_loss: 0.2558\n",
            "Epoch 17/20\n",
            "\u001b[1m144/144\u001b[0m \u001b[32m━━━━━━━━━━━━━━━━━━━━\u001b[0m\u001b[37m\u001b[0m \u001b[1m36s\u001b[0m 226ms/step - accuracy: 1.0000 - loss: 0.0032 - val_accuracy: 0.9338 - val_loss: 0.2519\n",
            "Epoch 18/20\n",
            "\u001b[1m144/144\u001b[0m \u001b[32m━━━━━━━━━━━━━━━━━━━━\u001b[0m\u001b[37m\u001b[0m \u001b[1m45s\u001b[0m 254ms/step - accuracy: 1.0000 - loss: 0.0027 - val_accuracy: 0.9233 - val_loss: 0.2617\n",
            "Epoch 19/20\n",
            "\u001b[1m144/144\u001b[0m \u001b[32m━━━━━━━━━━━━━━━━━━━━\u001b[0m\u001b[37m\u001b[0m \u001b[1m37s\u001b[0m 227ms/step - accuracy: 1.0000 - loss: 0.0022 - val_accuracy: 0.9303 - val_loss: 0.2557\n",
            "Epoch 20/20\n",
            "\u001b[1m144/144\u001b[0m \u001b[32m━━━━━━━━━━━━━━━━━━━━\u001b[0m\u001b[37m\u001b[0m \u001b[1m37s\u001b[0m 259ms/step - accuracy: 1.0000 - loss: 0.0021 - val_accuracy: 0.9233 - val_loss: 0.2621\n",
            "\u001b[1m18/18\u001b[0m \u001b[32m━━━━━━━━━━━━━━━━━━━━\u001b[0m\u001b[37m\u001b[0m \u001b[1m7s\u001b[0m 370ms/step - accuracy: 0.9265 - loss: 0.1961\n"
          ]
        },
        {
          "output_type": "stream",
          "name": "stderr",
          "text": [
            "WARNING:absl:You are saving your model as an HDF5 file via `model.save()` or `keras.saving.save_model(model)`. This file format is considered legacy. We recommend using instead the native Keras format, e.g. `model.save('my_model.keras')` or `keras.saving.save_model(model, 'my_model.keras')`. \n"
          ]
        },
        {
          "output_type": "stream",
          "name": "stdout",
          "text": [
            "Validation Loss: 0.2621273994445801\n",
            "Validation Accuracy: 0.9233449697494507\n",
            "Classification model training complete and saved as 'tumor_classification_mobilenetv2.h5'\n"
          ]
        }
      ]
    },
    {
      "cell_type": "code",
      "source": [],
      "metadata": {
        "id": "qVtvscFTR9pj"
      },
      "execution_count": null,
      "outputs": []
    }
  ]
}